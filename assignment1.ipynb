{
  "nbformat": 4,
  "nbformat_minor": 0,
  "metadata": {
    "colab": {
      "provenance": [],
      "authorship_tag": "ABX9TyO3cCxtkQFRb9sQSbCan5s2",
      "include_colab_link": true
    },
    "kernelspec": {
      "name": "python3",
      "display_name": "Python 3"
    },
    "language_info": {
      "name": "python"
    }
  },
  "cells": [
    {
      "cell_type": "markdown",
      "metadata": {
        "id": "view-in-github",
        "colab_type": "text"
      },
      "source": [
        "<a href=\"https://colab.research.google.com/github/sirichandanasrinivas7/aiml_batch4/blob/main/assignment1.ipynb\" target=\"_parent\"><img src=\"https://colab.research.google.com/assets/colab-badge.svg\" alt=\"Open In Colab\"/></a>"
      ]
    },
    {
      "cell_type": "code",
      "execution_count": 1,
      "metadata": {
        "colab": {
          "base_uri": "https://localhost:8080/"
        },
        "id": "D06PgDkpTLzL",
        "outputId": "96f73fc3-f097-47da-93b0-929516e79706"
      },
      "outputs": [
        {
          "output_type": "stream",
          "name": "stdout",
          "text": [
            "Type of array1: <class 'numpy.ndarray'>\n",
            "Type of array2: <class 'numpy.ndarray'>\n",
            "Multiplication Result: [ 6 14 24 36 50]\n",
            "Division Result: [6.         3.5        2.66666667 2.25       2.        ]\n",
            "Poweroff Result: [ 1  4  9 16 25]\n",
            "Textual Output: Addition of Two: [1 2 3 4 5] + [ 6  7  8  9 10]\n",
            "Sin Result: [ 0.84147098  0.90929743  0.14112001 -0.7568025  -0.95892427]\n",
            "Log Result: [1.79175947 1.94591015 2.07944154 2.19722458 2.30258509]\n",
            "Log2 Result: [2.5849625  2.80735492 3.         3.169925   3.32192809]\n",
            "Exponential Result: [  2.71828183   7.3890561   20.08553692  54.59815003 148.4131591 ]\n"
          ]
        }
      ],
      "source": [
        "import numpy as np\n",
        "import pandas as pd\n",
        "\n",
        "# Creating lists\n",
        "list1 = [1, 2, 3, 4, 5]\n",
        "list2 = [6, 7, 8, 9, 10]\n",
        "\n",
        "# Converting lists to arrays\n",
        "array1 = np.array(list1)\n",
        "array2 = np.array(list2)\n",
        "\n",
        "# Identifying types\n",
        "print(\"Type of array1:\", type(array1))\n",
        "print(\"Type of array2:\", type(array2))\n",
        "\n",
        "# Performing mathematical operations\n",
        "multiplication_result = array1 * array2\n",
        "division_result = array2 / array1\n",
        "poweroff_result = array1 ** 2\n",
        "\n",
        "# Combining text with NumPy function\n",
        "text_output = f\"Addition of Two: {array1} + {array2}\"\n",
        "\n",
        "# Implementing numpy functions\n",
        "sin_result = np.sin(array1)\n",
        "log_result = np.log(array2)\n",
        "log2_result = np.log2(array2)\n",
        "exp_result = np.exp(array1)\n",
        "\n",
        "# Printing results\n",
        "print(\"Multiplication Result:\", multiplication_result)\n",
        "print(\"Division Result:\", division_result)\n",
        "print(\"Poweroff Result:\", poweroff_result)\n",
        "print(\"Textual Output:\", text_output)\n",
        "print(\"Sin Result:\", sin_result)\n",
        "print(\"Log Result:\", log_result)\n",
        "print(\"Log2 Result:\", log2_result)\n",
        "print(\"Exponential Result:\", exp_result)"
      ]
    },
    {
      "cell_type": "code",
      "source": [],
      "metadata": {
        "id": "TEk01PqUVEld"
      },
      "execution_count": null,
      "outputs": []
    }
  ]
}